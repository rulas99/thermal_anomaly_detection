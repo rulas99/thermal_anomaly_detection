{
  "nbformat": 4,
  "nbformat_minor": 0,
  "metadata": {
    "colab": {
      "name": "ChooseAndSplitData.ipynb",
      "provenance": [],
      "collapsed_sections": [],
      "include_colab_link": true
    },
    "kernelspec": {
      "name": "python3",
      "display_name": "Python 3"
    },
    "language_info": {
      "name": "python"
    }
  },
  "cells": [
    {
      "cell_type": "markdown",
      "metadata": {
        "id": "view-in-github",
        "colab_type": "text"
      },
      "source": [
        "<a href=\"https://colab.research.google.com/github/rulas99/thermal_anomaly_detection/blob/main/ChooseAndSplitData.ipynb\" target=\"_parent\"><img src=\"https://colab.research.google.com/assets/colab-badge.svg\" alt=\"Open In Colab\"/></a>"
      ]
    },
    {
      "cell_type": "code",
      "execution_count": 1,
      "metadata": {
        "id": "sj3RHfJnzqZo"
      },
      "outputs": [],
      "source": [
        "from glob import glob\n",
        "import numpy as np\n",
        "import cv2\n",
        "from tqdm import tqdm\n",
        "from pandas import DataFrame\n",
        "from multiprocessing import Pool\n",
        "from sklearn.model_selection import train_test_split\n",
        "\n",
        "import matplotlib.pyplot as plt"
      ]
    },
    {
      "cell_type": "code",
      "source": [
        "from google.colab import drive\n",
        "drive.mount('/content/drive')"
      ],
      "metadata": {
        "colab": {
          "base_uri": "https://localhost:8080/"
        },
        "id": "MpZjyU-T6rdU",
        "outputId": "f41fa408-d903-442d-ca54-dbf5cec04e9b"
      },
      "execution_count": 3,
      "outputs": [
        {
          "output_type": "stream",
          "name": "stdout",
          "text": [
            "Mounted at /content/drive\n"
          ]
        }
      ]
    },
    {
      "cell_type": "code",
      "source": [
        "label_imgs = glob('/content/drive/MyDrive/segment_sentinel2_hotspot/mask_correction/*')"
      ],
      "metadata": {
        "id": "qfUcsdloz9ne"
      },
      "execution_count": 4,
      "outputs": []
    },
    {
      "cell_type": "code",
      "source": [
        "def check_label(path):\n",
        "  img = cv2.imread(path)\n",
        "  return f'{path}-yes' if 255 in img else f'{path}-no'"
      ],
      "metadata": {
        "id": "64HLV0qU2t6j"
      },
      "execution_count": 5,
      "outputs": []
    },
    {
      "cell_type": "code",
      "source": [
        "with Pool(4) as p:\n",
        "  res = p.map(check_label, label_imgs)"
      ],
      "metadata": {
        "id": "9wVIeNQH26Xb"
      },
      "execution_count": 6,
      "outputs": []
    },
    {
      "cell_type": "code",
      "source": [
        "data = list(zip(*[i.split('-') for i in res]))"
      ],
      "metadata": {
        "id": "CvMLgMpi3sKn"
      },
      "execution_count": 7,
      "outputs": []
    },
    {
      "cell_type": "code",
      "source": [
        "df = DataFrame({'label_path':data[0],'anomaly':data[1]})"
      ],
      "metadata": {
        "id": "5ZL20DMs1W0p"
      },
      "execution_count": 8,
      "outputs": []
    },
    {
      "cell_type": "code",
      "source": [
        "df.to_csv('/content/drive/MyDrive/segment_sentinel2_hotspot/images_info.csv',index=False)"
      ],
      "metadata": {
        "id": "vr8MKrXi627b"
      },
      "execution_count": 9,
      "outputs": []
    },
    {
      "cell_type": "code",
      "source": [
        "t_df = df[df.anomaly=='yes']"
      ],
      "metadata": {
        "id": "jELmEuQy7unI"
      },
      "execution_count": 10,
      "outputs": []
    },
    {
      "cell_type": "code",
      "source": [
        "t_df.shape"
      ],
      "metadata": {
        "colab": {
          "base_uri": "https://localhost:8080/"
        },
        "id": "IT_kbkhd4ZGO",
        "outputId": "e5dcd49d-2efe-40ee-dd71-ee078249ceb0"
      },
      "execution_count": 11,
      "outputs": [
        {
          "output_type": "execute_result",
          "data": {
            "text/plain": [
              "(509, 2)"
            ]
          },
          "metadata": {},
          "execution_count": 11
        }
      ]
    },
    {
      "cell_type": "code",
      "source": [
        "train, test = train_test_split(t_df, test_size=.03, train_size=.97, random_state=99)"
      ],
      "metadata": {
        "id": "YQO2CMuD0njU"
      },
      "execution_count": 12,
      "outputs": []
    },
    {
      "cell_type": "code",
      "source": [
        "len(train), len(test)"
      ],
      "metadata": {
        "colab": {
          "base_uri": "https://localhost:8080/"
        },
        "id": "85ivpO-p8Qbg",
        "outputId": "e30207ab-215a-4590-9f97-08f234ca925b"
      },
      "execution_count": 13,
      "outputs": [
        {
          "output_type": "execute_result",
          "data": {
            "text/plain": [
              "(493, 16)"
            ]
          },
          "metadata": {},
          "execution_count": 13
        }
      ]
    },
    {
      "cell_type": "code",
      "source": [
        "train_names = [f'{i.split(\"/\")[-1][:-8]}B12B11B8A.png' for i in train.label_path]\n",
        "test_names = [f'{i.split(\"/\")[-1][:-8]}B12B11B8A.png' for i in test.label_path]"
      ],
      "metadata": {
        "id": "M4tqI19E8VG9"
      },
      "execution_count": 23,
      "outputs": []
    },
    {
      "cell_type": "code",
      "source": [
        "thermal_imgs_path = '/content/drive/MyDrive/segment_sentinel2_hotspot/classify_sentinel2_trainingdataset'"
      ],
      "metadata": {
        "id": "s3aCWSrf9RjY"
      },
      "execution_count": 25,
      "outputs": []
    },
    {
      "cell_type": "code",
      "source": [
        "train['ori_path'] = [f'{thermal_imgs_path}/{i}' for i in train_names]\n",
        "test['ori_path'] = [f'{thermal_imgs_path}/{i}' for i in test_names]"
      ],
      "metadata": {
        "id": "NfcjpSNq_LS8"
      },
      "execution_count": 26,
      "outputs": []
    },
    {
      "cell_type": "code",
      "source": [
        "train.to_csv('/content/drive/MyDrive/segment_sentinel2_hotspot/train_2.csv',index=False)\n",
        "test.to_csv('/content/drive/MyDrive/segment_sentinel2_hotspot/test_2.csv',index=False)"
      ],
      "metadata": {
        "id": "99YTcCUZ-Erw"
      },
      "execution_count": 28,
      "outputs": []
    },
    {
      "cell_type": "code",
      "source": [
        ""
      ],
      "metadata": {
        "id": "Zx0wQoIwACzR"
      },
      "execution_count": null,
      "outputs": []
    }
  ]
}